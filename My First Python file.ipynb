{
 "cells": [
  {
   "cell_type": "code",
   "execution_count": 1,
   "id": "db343a07",
   "metadata": {},
   "outputs": [
    {
     "name": "stdout",
     "output_type": "stream",
     "text": [
      "Hello Virendra you can do it\n"
     ]
    }
   ],
   "source": [
    "print(\"Hello Virendra you can do it\")"
   ]
  },
  {
   "cell_type": "code",
   "execution_count": 2,
   "id": "eedbde6d",
   "metadata": {},
   "outputs": [
    {
     "name": "stdout",
     "output_type": "stream",
     "text": [
      "Virendra\n"
     ]
    }
   ],
   "source": [
    "print(\"Virendra\")"
   ]
  },
  {
   "cell_type": "code",
   "execution_count": 8,
   "id": "0683b58e",
   "metadata": {},
   "outputs": [
    {
     "name": "stdout",
     "output_type": "stream",
     "text": [
      "my name is Virendra\n"
     ]
    }
   ],
   "source": [
    "Hello=\"my name is Virendra\"\n",
    "print(Hello)"
   ]
  },
  {
   "cell_type": "code",
   "execution_count": 9,
   "id": "194bcb75",
   "metadata": {},
   "outputs": [
    {
     "name": "stdout",
     "output_type": "stream",
     "text": [
      "25\n"
     ]
    }
   ],
   "source": [
    "x=15\n",
    "y=10\n",
    "print(x+y)"
   ]
  },
  {
   "cell_type": "code",
   "execution_count": null,
   "id": "a4b97462",
   "metadata": {},
   "outputs": [],
   "source": []
  }
 ],
 "metadata": {
  "kernelspec": {
   "display_name": "Python 3 (ipykernel)",
   "language": "python",
   "name": "python3"
  },
  "language_info": {
   "codemirror_mode": {
    "name": "ipython",
    "version": 3
   },
   "file_extension": ".py",
   "mimetype": "text/x-python",
   "name": "python",
   "nbconvert_exporter": "python",
   "pygments_lexer": "ipython3",
   "version": "3.10.9"
  }
 },
 "nbformat": 4,
 "nbformat_minor": 5
}
